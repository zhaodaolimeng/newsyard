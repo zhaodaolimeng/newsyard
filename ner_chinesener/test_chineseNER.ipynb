{
 "cells": [
  {
   "cell_type": "code",
   "execution_count": null,
   "metadata": {
    "collapsed": true
   },
   "outputs": [],
   "source": [
    "import tensorflow as tf\n",
    "import json\n",
    "import logging\n",
    "import pickle"
   ]
  },
  {
   "cell_type": "code",
   "execution_count": null,
   "metadata": {
    "collapsed": true
   },
   "outputs": [],
   "source": [
    "# 读文件进行NER\n",
    "# 文件以行为单位，每一行包含上下文关系密切的一段话\n",
    "\n",
    "def load_config(config_file):\n",
    "    with open(config_file, encoding=\"utf8\") as f:\n",
    "        return json.load(f)\n",
    "\n",
    "def get_logger(log_file):\n",
    "    logger = logging.getLogger(log_file)\n",
    "    logger.setLevel(logging.DEBUG)\n",
    "    fh = logging.FileHandler(log_file)\n",
    "    fh.setLevel(logging.DEBUG)\n",
    "    ch = logging.StreamHandler()\n",
    "    ch.setLevel(logging.INFO)\n",
    "    formatter = logging.Formatter(\"%(asctime)s - %(name)s - %(levelname)s - %(message)s\")\n",
    "    ch.setFormatter(formatter)\n",
    "    fh.setFormatter(formatter)\n",
    "    logger.addHandler(ch)\n",
    "    logger.addHandler(fh)\n",
    "    return logger\n",
    "    \n",
    "config = load_config(\"ChineseNER/config_file\")\n",
    "logger = get_logger(\"ChineseNER/log/train.log\")\n",
    "\n",
    "tf_config = tf.ConfigProto()\n",
    "tf_config.gpu_options.allow_growth = True\n",
    "with open(\"ChineseNER/maps.pkl\", \"rb\") as f:\n",
    "    char_to_id, id_to_char, tag_to_id, id_to_tag = pickle.load(f)"
   ]
  },
  {
   "cell_type": "code",
   "execution_count": null,
   "metadata": {
    "collapsed": true
   },
   "outputs": [],
   "source": [
    "with tf.Session(config=tf_config) as sess:\n",
    "    model = create_model(sess, Model, FLAGS.ckpt_path, load_word2vec, config, id_to_char, logger)\n",
    "    with codecs.open(\"ChineseNER/dataset/\") as f:\n",
    "        line = input(\"请输入测试句子:\")\n",
    "        result = model.evaluate_line(sess, input_from_line(line, char_to_id), id_to_tag)\n",
    "        print(result)"
   ]
  },
  {
   "cell_type": "code",
   "execution_count": null,
   "metadata": {
    "collapsed": true
   },
   "outputs": [],
   "source": [
    "import mysql.connector as c\n",
    "\n",
    "db = c.connect(host=\"localhost\", user=\"root\", passwd=\"123456\", db=\"news_spider\")\n",
    "cur = db.cursor()\n",
    "cur.execute(\"SELECT id, title, newstype, time_pub, content FROM t_people where newstype=\\\"'military'\\\" order by time_pub desc\")\n",
    "\n",
    "try:\n",
    "    result = cur.fetchmany(size=100)\n",
    "    while result:\n",
    "        for (id, title, newstype, time_pub, content) in result:\n",
    "            print(time_pub + '\\t' + title)\n",
    "        break\n",
    "except Exception as e:\n",
    "    print(e)\n",
    "finally:\n",
    "    db.close()"
   ]
  },
  {
   "cell_type": "code",
   "execution_count": null,
   "metadata": {
    "collapsed": true
   },
   "outputs": [],
   "source": [
    "!wget \"https://bosonnlp.com/resources/BosonNLP_NER_6C.zip\" \"ChineseNER/data/\"\n",
    "!unzip \"BosonNLP_NER_6C.zip\""
   ]
  },
  {
   "cell_type": "code",
   "execution_count": null,
   "metadata": {
    "collapsed": true
   },
   "outputs": [],
   "source": [
    "import codecs\n",
    "\n",
    "\"\"\"\n",
    "格式转换：\n",
    "源格式的标记类型为：\n",
    "product_name, time, person_name, org_name, location, company_name\n",
    "\n",
    "目标格式中的标记格式为M-TYPE\n",
    "M取值为B或I，分别表示开始和其他\n",
    "TYPE取值分别为LOC, PER, ORG\n",
    "\"\"\"\n",
    "\n",
    "tag_dict = {'product_name': 'PDT',\n",
    "           'time': 'T',\n",
    "           'person_name':'PER',\n",
    "           'org_name':'ORG',\n",
    "           'company_name':'COM',\n",
    "           'location':'LOC'}\n",
    "spaces = {' ', '\\xa0', '\\u3000', '\\t'}\n",
    "\n",
    "with codecs.open(\"ChineseNER/data/BosonNLP_NER_6C.txt\", \"r\", \"utf8\") as rf:\n",
    "    with codecs.open(\"ChineseNER/data/BosonNLP_NER_6C.train\", \"w\", \"utf8\") as wf:\n",
    "        for n, line in enumerate(rf.readlines()):\n",
    "            line = line.replace(\"\\\\n\", \"\")\n",
    "            print(str(n))\n",
    "            flag = 0\n",
    "            while flag < len(line):\n",
    "                if line[flag] == '{':\n",
    "                    begin = flag\n",
    "                    while line[flag] != '}':\n",
    "                        flag += 1\n",
    "                    tags = line[begin+2 : flag]\n",
    "                    for space in spaces:\n",
    "                        tags = tags.replace(space, \"\")\n",
    "                    tags = tags.split(\":\")\n",
    "                    new_item = tags[1][0] + ' B-'+ tag_dict[tags[0]]\n",
    "                    wf.write(new_item + '\\n')\n",
    "                    for a in tags[1][1:]:\n",
    "                        new_item = a + ' I-'+tag_dict[tags[0]]\n",
    "                        wf.write(new_item + '\\n')\n",
    "                    flag += 2\n",
    "                else:\n",
    "                    if line[flag] != '\\n':\n",
    "                        if line[flag] not in spaces:\n",
    "                            new_item = line[flag] + ' O'\n",
    "                            wf.write(new_item + '\\n')\n",
    "                        if line[flag] == '。':\n",
    "                            wf.write('\\n')\n",
    "                    flag += 1\n",
    "    "
   ]
  }
 ],
 "metadata": {
  "kernelspec": {
   "display_name": "Python 3",
   "language": "python",
   "name": "python3"
  },
  "language_info": {
   "codemirror_mode": {
    "name": "ipython",
    "version": 3
   },
   "file_extension": ".py",
   "mimetype": "text/x-python",
   "name": "python",
   "nbconvert_exporter": "python",
   "pygments_lexer": "ipython3",
   "version": "3.6.1"
  }
 },
 "nbformat": 4,
 "nbformat_minor": 2
}

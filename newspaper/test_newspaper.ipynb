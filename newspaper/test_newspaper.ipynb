{
 "cells": [
  {
   "cell_type": "code",
   "execution_count": 2,
   "metadata": {
    "collapsed": true
   },
   "outputs": [],
   "source": [
    "import newspaper"
   ]
  },
  {
   "cell_type": "code",
   "execution_count": 3,
   "metadata": {
    "collapsed": true
   },
   "outputs": [],
   "source": [
    "sina_paper = newspaper.build('http://www.sina.com.cn/', language='zh')"
   ]
  },
  {
   "cell_type": "code",
   "execution_count": 4,
   "metadata": {},
   "outputs": [
    {
     "name": "stdout",
     "output_type": "stream",
     "text": [
      "http://www.sina.com.cn/\n",
      "http://slide.blog.sina.com.cn\n",
      "http://yangfanbook.sina.com.cn\n",
      "http://gz.auto.sina.com.cn\n",
      "http://91.jiaju.sina.com.cn\n",
      "http://med.sina.com\n",
      "http://gif.sina.com.cn\n",
      "http://sea.sina.com.cn\n",
      "http://games.sina.cn\n",
      "http://auto.sina.cn\n",
      "http://roll.fashion.sina.com.cn\n",
      "http://zhiyuan.edu.sina.com.cn\n",
      "http://health.sina.com.cn\n",
      "http://wx.sina.com.cn\n",
      "http://sh.auto.sina.com.cn\n",
      "http://dj.sina.com.cn\n",
      "http://guba.sina.com.cn\n",
      "http://iask.sina.com.cn\n",
      "http://weather.sina.com.cn\n",
      "http://slide.health.sina.com.cn\n",
      "http://i.blog.sina.com.cn\n",
      "http://open.sina.com.cn\n",
      "http://jiancai.jiaju.sina.com.cn\n",
      "http://baby.sina.com.cn\n",
      "http://yue.sina.com.cn\n",
      "https://touzi.sina.com.cn\n",
      "http://eladies.sina.com.cn\n",
      "http://mn.sina.com.cn\n",
      "http://ka.sina.com.cn\n",
      "http://city.sina.com.cn\n",
      "http://blog.sina.com.cn\n",
      "http://slide.collection.sina.com.cn\n",
      "http://aipai.sina.com.cn\n",
      "http://drug.health.sina.com.cn\n",
      "http://designer.jiaju.sina.com.cn\n",
      "http://data.auto.sina.com.cn\n",
      "http://roll.sports.sina.com.cn\n",
      "http://sina.com.cn\n",
      "http://jiaoyi.sina.com.cn\n",
      "http://live.finance.sina.com.cn\n",
      "http://lottery.sina.com.cn\n",
      "http://hunan.sina.com.cn\n",
      "http://bj.auto.sina.com.cn\n",
      "http://tj.sina.com.cn\n",
      "http://chexian.sina.com\n",
      "http://sx.sina.com.cn\n",
      "http://gx.sina.com.cn\n",
      "http://vip.book.sina.com.cn\n",
      "http://tech.sina.com.cn\n",
      "http://jifen.sina.com.cn\n",
      "http://slide.ent.sina.com.cn\n",
      "http://career.sina.com.cn\n",
      "http://fashion.sina.com.cn\n",
      "http://hainan.sina.com.cn\n",
      "http://jl.sina.com.cn\n",
      "http://digi.sina.com.cn\n",
      "http://finance.sina.com.cn\n",
      "http://dealer.auto.sina.com.cn\n",
      "http://cc.auto.sina.com.cn\n",
      "http://slide.eladies.sina.com.cn\n",
      "http://kan.sina.com.cn\n",
      "http://sky.news.sina.com.cn\n",
      "http://zhuanlan.sina.com.cn\n",
      "http://video.baby.sina.com.cn\n",
      "http://zq.games.sina.com.cn\n",
      "http://supports.jiaju.sina.com.cn\n",
      "http://slide.fo.sina.com.cn\n",
      "http://sports.sina.com.cn\n",
      "http://cq.auto.sina.com.cn\n",
      "http://api.ggt.sina.com.cn\n",
      "http://video.sina.com.cn\n",
      "http://travel.sina.com.cn\n",
      "http://show.sina.com.cn\n",
      "http://shanxi.sina.com.cn\n",
      "http://gongyi.sina.com.cn\n",
      "http://vip.stock.finance.sina.com.cn\n",
      "http://chuangye.sina.com.cn\n",
      "http://sc.sina.com.cn\n",
      "http://mil.news.sina.com.cn\n",
      "http://sifa.sina.com.cn\n",
      "http://slide.fashion.sina.com.cn\n",
      "http://e.games.sina.com.cn\n",
      "http://shiqu.sina.com.cn\n",
      "http://ln.sina.com.cn\n",
      "http://dichan.sina.com.cn\n",
      "http://slide.mil.news.sina.com.cn\n",
      "http://zj.sina.com.cn\n",
      "http://photo.auto.sina.com.cn\n",
      "http://kaoshi.edu.sina.com.cn\n",
      "http://vr.sina.com.cn\n",
      "http://bj.house.sina.com.cn\n",
      "http://jx.sina.com.cn\n",
      "http://gov.sina.com.cn\n",
      "http://sh.sina.com.cn\n",
      "http://emarketing.sina.com.cn\n",
      "http://slide.edu.sina.com.cn\n",
      "http://slide.baby.sina.com.cn\n",
      "http://fo.sina.com.cn\n",
      "http://club.eladies.sina.com.cn\n",
      "http://collection.sina.com.cn\n",
      "http://photo.sina.com.cn\n",
      "http://history.sina.com.cn\n",
      "http://jiaju.sina.com.cn\n",
      "http://vr.sina.cn\n",
      "http://corp.sina.com.cn\n",
      "http://hebei.sina.com.cn\n",
      "http://sd.sina.com.cn\n",
      "http://edu.sina.com.cn\n",
      "http://fj.sina.com.cn\n",
      "http://jiangsu.sina.com.cn\n",
      "http://book.sina.com.cn\n",
      "http://dl.sina.com.cn\n",
      "http://kf.games.sina.com.cn\n",
      "http://slide.news.sina.com.cn\n",
      "http://roll.collection.sina.com.cn\n",
      "http://slide.sports.sina.com.cn\n",
      "http://nb.sina.com.cn\n",
      "http://roll.news.sina.com.cn\n",
      "http://anli.jiaju.sina.com.cn\n",
      "http://slide.astro.sina.com.cn\n",
      "http://roll.mil.news.sina.com.cn\n",
      "http://cq.sina.com.cn\n",
      "http://zhongce.sina.com.cn\n",
      "http://ent.sina.com.cn\n",
      "http://licaishi.sina.com.cn\n",
      "http://news.auto.sina.com.cn\n",
      "http://live.sina.com.cn\n",
      "http://news.sina.com.cn\n",
      "http://cul.sina.com.cn\n",
      "http://www.sina.com.cn\n",
      "http://auto.sina.com.cn\n",
      "http://gd.sina.com.cn\n",
      "http://swf.games.sina.com.cn\n",
      "http://tj.auto.sina.com.cn\n",
      "http://astro.sina.com.cn\n",
      "http://golf.sina.com.cn\n",
      "http://k.sina.com.cn\n",
      "http://db.auto.sina.com.cn\n",
      "http://slide.tech.sina.com.cn\n",
      "http://hb.sina.com.cn\n",
      "http://roll.finance.sina.com.cn\n",
      "http://hlj.sina.com.cn\n",
      "http://ah.sina.com.cn\n",
      "http://tianqitong.sina.cn\n",
      "http://zx.jiaju.sina.com.cn\n",
      "http://games.sina.com.cn\n",
      "http://henan.sina.com.cn\n"
     ]
    }
   ],
   "source": [
    "for category in sina_paper.category_urls():\n",
    "    print(category)"
   ]
  },
  {
   "cell_type": "code",
   "execution_count": 5,
   "metadata": {},
   "outputs": [
    {
     "data": {
      "text/plain": [
       "147"
      ]
     },
     "execution_count": 5,
     "metadata": {},
     "output_type": "execute_result"
    }
   ],
   "source": [
    "len(sina_paper.category_urls())"
   ]
  },
  {
   "cell_type": "code",
   "execution_count": 8,
   "metadata": {
    "collapsed": true
   },
   "outputs": [],
   "source": [
    "article = sina_paper.articles[0]"
   ]
  },
  {
   "cell_type": "code",
   "execution_count": 9,
   "metadata": {
    "collapsed": true
   },
   "outputs": [],
   "source": [
    "article.download()"
   ]
  },
  {
   "cell_type": "code",
   "execution_count": 10,
   "metadata": {
    "scrolled": true
   },
   "outputs": [
    {
     "name": "stderr",
     "output_type": "stream",
     "text": [
      "Building prefix dict from D:\\DevTools\\Anaconda3\\lib\\site-packages\\jieba\\dict.txt ...\n",
      "Dumping model to file cache C:\\Users\\user\\AppData\\Local\\Temp\\jieba.cache\n",
      "Loading model cost 1.3416001796722412 seconds.\n",
      "Prefix dict has been built succesfully.\n"
     ]
    }
   ],
   "source": [
    "article.parse()"
   ]
  },
  {
   "cell_type": "code",
   "execution_count": 15,
   "metadata": {},
   "outputs": [
    {
     "data": {
      "text/plain": [
       "'一杯精酿，点亮今夜-鲜城'"
      ]
     },
     "execution_count": 15,
     "metadata": {},
     "output_type": "execute_result"
    }
   ],
   "source": [
    "article.title"
   ]
  },
  {
   "cell_type": "code",
   "execution_count": 13,
   "metadata": {},
   "outputs": [
    {
     "ename": "AttributeError",
     "evalue": "'Article' object has no attribute 'time'",
     "output_type": "error",
     "traceback": [
      "\u001b[1;31m---------------------------------------------------------------------------\u001b[0m",
      "\u001b[1;31mAttributeError\u001b[0m                            Traceback (most recent call last)",
      "\u001b[1;32m<ipython-input-13-68296a1b4528>\u001b[0m in \u001b[0;36m<module>\u001b[1;34m()\u001b[0m\n\u001b[1;32m----> 1\u001b[1;33m \u001b[0marticle\u001b[0m\u001b[1;33m.\u001b[0m\u001b[0mtime\u001b[0m\u001b[1;33m\u001b[0m\u001b[0m\n\u001b[0m",
      "\u001b[1;31mAttributeError\u001b[0m: 'Article' object has no attribute 'time'"
     ]
    }
   ],
   "source": [
    "article.time"
   ]
  },
  {
   "cell_type": "code",
   "execution_count": 11,
   "metadata": {},
   "outputs": [
    {
     "data": {
      "text/plain": [
       "'推荐理由 初夏的北京清风送爽，那里花园是最配得上这个季节的地方。几杯精酿，点燃了某根神经，气氛就这样渐渐的high起来~\\n\\n一杯精酿，点亮今夜\\n\\nHigh Town海棠精酿\\n\\n逐渐炎热的夜晚，找一家环境好的精酿店，是初夏最有乐趣的晚间活动。轻松的音乐，端起酒杯，与好友畅快聊天，吐露心声，再有一些美食，这才是下班时光对自己最好的慰藉。那里花园，是最配得上这个季节的地方，像是三里屯中间的桃花源，幽静又热闹，几杯精酿，点燃了某根神经，气氛就这样渐渐的high起来~\\n\\n多彩的酒就是会迷乱人们的眼，看着娇艳美丽，但对于没有酒量的人来说，喝下去可就不一定那么好受了。但是如此这般美妙，也顾不得那么多了，果然，才只是刚刚开始，就有点妙不可言了。\\n\\n果然空腹是不建议喝酒的，边吃边喝才是正经事。打开菜单，这里的沙拉令人眼花缭乱，想必老板一定是个美女吧，无论是酒还是菜品，颜值都超高。油果粗粮沙拉\\n\\n香煎大虾沙拉，夏日水果沙拉，羽衣甘蓝沙拉…搭配起来颜色貌美，健康又有营养，还没有负担。牛油果、杏仁、虾仁、草莓…诸多元素都是亮点。\\n\\nBBQ烤猪肋排是肉食动物的救星，真正的喝酒吃肉就是如此，肋排油亮亮，服务员帮忙切开，每人啃一根，这景象实在有趣！\\n\\n墨西哥鸡肉披萨，看似普通，吃起来可真是让人回味无穷，饼皮薄薄酥酥的，里面有大颗鸡肉粒，味道香浓。汉堡常吃，可是鹅肝汉堡就是第一次尝试了，确实有创意，肥美嫩滑，喜欢鹅肝的一定不可错过。\\n\\n大虾香草意面打入菜汁，颜色美丽，虾仁弹牙，清新中带有一丝鲜美。炸玉米片和红薯条是佐酒的最佳小零食，慢悠悠的一会儿吃起一块，也是消磨时光的小伴侣。\\n\\n最近，餐厅推出了周五六日11:00-15:00的Branch菜单，丰富了可选，让海棠精酿不仅仅欢乐在晚间，白天也有了全新的生机。烟熏三文鱼班尼迪克，烟熏三文鱼、低温蛋、炒菠菜、芥末籽荷兰汁、英式马芬、混合沙拉…分量足足的。\\n\\n培根鸡蛋早餐锅，包含洋葱、培根、土豆、红彩椒、菠菜、鸡蛋、百里香、马苏里拉奶酪…无论是独处一人还是结伴同行，在这里呆呆的度过白天的悠闲时光，惬意又温馨。'"
      ]
     },
     "execution_count": 11,
     "metadata": {},
     "output_type": "execute_result"
    }
   ],
   "source": [
    "article.text"
   ]
  },
  {
   "cell_type": "code",
   "execution_count": 18,
   "metadata": {
    "collapsed": true
   },
   "outputs": [],
   "source": [
    "import jieba"
   ]
  },
  {
   "cell_type": "code",
   "execution_count": 20,
   "metadata": {},
   "outputs": [
    {
     "data": {
      "text/plain": [
       "['十九', '大', '胜利', '召开', '。']"
      ]
     },
     "execution_count": 20,
     "metadata": {},
     "output_type": "execute_result"
    }
   ],
   "source": [
    "list(jieba.cut('十九大胜利召开。'))"
   ]
  },
  {
   "cell_type": "code",
   "execution_count": 16,
   "metadata": {
    "collapsed": true
   },
   "outputs": [],
   "source": [
    "import sklearn"
   ]
  },
  {
   "cell_type": "code",
   "execution_count": 23,
   "metadata": {},
   "outputs": [
    {
     "data": {
      "image/png": "[encoded data removed]",
      "text/plain": [
       "<matplotlib.figure.Figure at 0x1a6f6e10>"
      ]
     },
     "metadata": {},
     "output_type": "display_data"
    }
   ],
   "source": [
    "%matplotlib inline\n",
    "import matplotlib.pyplot as plt\n",
    "\n",
    "plt.plot()\n",
    "plt.show()"
   ]
  },
  {
   "cell_type": "code",
   "execution_count": 25,
   "metadata": {
    "collapsed": true
   },
   "outputs": [],
   "source": [
    "from snownlp import seg"
   ]
  },
  {
   "cell_type": "code",
   "execution_count": 26,
   "metadata": {
    "collapsed": true
   },
   "outputs": [],
   "source": [
    "seg.train('D://Desktop/snownlp-master/snownlp/seg/data.txt')"
   ]
  },
  {
   "cell_type": "code",
   "execution_count": 27,
   "metadata": {
    "collapsed": true
   },
   "outputs": [],
   "source": [
    "seg.save('D://Desktop/snownlp-master/snownlp/seg/seg_1.marshal')"
   ]
  }
 ],
 "metadata": {
  "kernelspec": {
   "display_name": "Python 3",
   "language": "python",
   "name": "python3"
  },
  "language_info": {
   "codemirror_mode": {
    "name": "ipython",
    "version": 3
   },
   "file_extension": ".py",
   "mimetype": "text/x-python",
   "name": "python",
   "nbconvert_exporter": "python",
   "pygments_lexer": "ipython3",
   "version": "3.6.1"
  }
 },
 "nbformat": 4,
 "nbformat_minor": 2
}
